{
 "cells": [
  {
   "cell_type": "markdown",
   "id": "b4e0086f-5464-4f33-8be5-2cc9abae6651",
   "metadata": {},
   "source": [
    "## 4.2 Importing Libraries and Python Data Types"
   ]
  },
  {
   "cell_type": "markdown",
   "id": "2db1bfd2-d608-4873-9bf9-7a8a50fddbfb",
   "metadata": {},
   "source": [
    "### 1. Importing libraries"
   ]
  },
  {
   "cell_type": "markdown",
   "id": "edbd6d01-737c-4541-9580-b8bed61224fc",
   "metadata": {},
   "source": [
    "### 2. Data types"
   ]
  },
  {
   "cell_type": "markdown",
   "id": "5d791873-3dd1-47dc-9065-0b91f0bcceff",
   "metadata": {},
   "source": [
    "#### 1. Importing libraries"
   ]
  },
  {
   "cell_type": "code",
   "execution_count": 1,
   "id": "bf05fe71-ecd2-4c64-97e9-fd43a9708f03",
   "metadata": {},
   "outputs": [],
   "source": [
    "# Import libraries\n",
    "import pandas as pd\n",
    "import numpy as np\n",
    "import os"
   ]
  },
  {
   "cell_type": "markdown",
   "id": "d66dcfe4-d8e1-4a00-9552-15f67f966ea8",
   "metadata": {},
   "source": [
    "#### 2. Data types"
   ]
  },
  {
   "cell_type": "code",
   "execution_count": 49,
   "id": "5a587fc2-6642-4d5d-aa63-2c53698ac004",
   "metadata": {},
   "outputs": [],
   "source": [
    "x = 2"
   ]
  },
  {
   "cell_type": "code",
   "execution_count": 51,
   "id": "70ac5af2-526c-40fe-b75c-8c76c5929d2f",
   "metadata": {},
   "outputs": [
    {
     "data": {
      "text/plain": [
       "100"
      ]
     },
     "execution_count": 51,
     "metadata": {},
     "output_type": "execute_result"
    }
   ],
   "source": [
    "x + 98"
   ]
  },
  {
   "cell_type": "code",
   "execution_count": 55,
   "id": "40bc6203-fbf0-4513-9818-0ce08cd757ee",
   "metadata": {},
   "outputs": [
    {
     "data": {
      "text/plain": [
       "100"
      ]
     },
     "execution_count": 55,
     "metadata": {},
     "output_type": "execute_result"
    }
   ],
   "source": [
    "102 - x"
   ]
  },
  {
   "cell_type": "code",
   "execution_count": 57,
   "id": "b4cedc90-a114-4281-ad49-8b9558aad09d",
   "metadata": {},
   "outputs": [
    {
     "data": {
      "text/plain": [
       "100"
      ]
     },
     "execution_count": 57,
     "metadata": {},
     "output_type": "execute_result"
    }
   ],
   "source": [
    "(x + 78) + 20"
   ]
  },
  {
   "cell_type": "code",
   "execution_count": 59,
   "id": "7cb09936-d113-4c05-b669-911ea69f7640",
   "metadata": {},
   "outputs": [],
   "source": [
    "x = 2.57"
   ]
  },
  {
   "cell_type": "code",
   "execution_count": 61,
   "id": "14dea4ad-0f46-41e9-b038-eeffe6aa6548",
   "metadata": {},
   "outputs": [],
   "source": [
    "y = 7.31"
   ]
  },
  {
   "cell_type": "code",
   "execution_count": 63,
   "id": "942e83b5-44a6-439c-8d33-a405d5819a13",
   "metadata": {},
   "outputs": [
    {
     "data": {
      "text/plain": [
       "0.35157318741450067"
      ]
     },
     "execution_count": 63,
     "metadata": {},
     "output_type": "execute_result"
    }
   ],
   "source": [
    "x / y"
   ]
  },
  {
   "cell_type": "code",
   "execution_count": 73,
   "id": "d1b103c7-c529-4c5c-ada8-89657c11c2ab",
   "metadata": {},
   "outputs": [],
   "source": [
    "a = 'Ap'"
   ]
  },
  {
   "cell_type": "code",
   "execution_count": 75,
   "id": "46c46a6e-d1c6-4822-9ad6-9e7f05c45706",
   "metadata": {},
   "outputs": [],
   "source": [
    "b = 'ple'"
   ]
  },
  {
   "cell_type": "code",
   "execution_count": 77,
   "id": "030e9e47-2937-4f60-b2a4-b2bc8cb0d3e4",
   "metadata": {},
   "outputs": [
    {
     "data": {
      "text/plain": [
       "'Apple'"
      ]
     },
     "execution_count": 77,
     "metadata": {},
     "output_type": "execute_result"
    }
   ],
   "source": [
    "a + b"
   ]
  },
  {
   "cell_type": "code",
   "execution_count": 79,
   "id": "62d9756c-fe08-4162-bebc-066cec675324",
   "metadata": {},
   "outputs": [],
   "source": [
    "a = 'How '"
   ]
  },
  {
   "cell_type": "code",
   "execution_count": 81,
   "id": "efdea489-0d77-47aa-a658-a98ee3963f17",
   "metadata": {},
   "outputs": [],
   "source": [
    "b = 'are '"
   ]
  },
  {
   "cell_type": "code",
   "execution_count": 83,
   "id": "ed7fca62-2d88-4752-994d-fef391f1f7cb",
   "metadata": {},
   "outputs": [],
   "source": [
    "c = 'you '"
   ]
  },
  {
   "cell_type": "code",
   "execution_count": 85,
   "id": "e28b36ed-6231-4fc8-a057-f1437ab1f142",
   "metadata": {},
   "outputs": [],
   "source": [
    "d = 'today?'"
   ]
  },
  {
   "cell_type": "code",
   "execution_count": 87,
   "id": "01fef866-2945-4d7a-8c84-364415b72286",
   "metadata": {},
   "outputs": [
    {
     "data": {
      "text/plain": [
       "'How are you today?'"
      ]
     },
     "execution_count": 87,
     "metadata": {},
     "output_type": "execute_result"
    }
   ],
   "source": [
    "a + b + c + d"
   ]
  },
  {
   "cell_type": "code",
   "execution_count": 89,
   "id": "8c8e8094-f8e2-4e2f-ba2c-63ceac2e72b2",
   "metadata": {},
   "outputs": [],
   "source": [
    "a = 'It '"
   ]
  },
  {
   "cell_type": "code",
   "execution_count": 91,
   "id": "b4bfd90f-4374-4b44-8e2c-e9b119184b1b",
   "metadata": {},
   "outputs": [],
   "source": [
    "b = 'is '"
   ]
  },
  {
   "cell_type": "code",
   "execution_count": 93,
   "id": "fab381a4-83a7-4df1-a50b-a9dddd5b5d0a",
   "metadata": {},
   "outputs": [],
   "source": [
    "c = 'very '"
   ]
  },
  {
   "cell_type": "code",
   "execution_count": 95,
   "id": "ba2b136c-bee0-4b5d-8bd1-70ea82e95fa1",
   "metadata": {},
   "outputs": [],
   "source": [
    "d = 'cold '"
   ]
  },
  {
   "cell_type": "code",
   "execution_count": 97,
   "id": "33096c27-b24d-401e-8305-2db18e62bb10",
   "metadata": {},
   "outputs": [],
   "source": [
    "e = 'outside.'"
   ]
  },
  {
   "cell_type": "code",
   "execution_count": 99,
   "id": "989c40fe-eaac-4213-9a79-c3fdc0508ca4",
   "metadata": {},
   "outputs": [
    {
     "data": {
      "text/plain": [
       "'It is very cold outside.'"
      ]
     },
     "execution_count": 99,
     "metadata": {},
     "output_type": "execute_result"
    }
   ],
   "source": [
    "a + b + c + d + e"
   ]
  }
 ],
 "metadata": {
  "kernelspec": {
   "display_name": "Python [conda env:base] *",
   "language": "python",
   "name": "conda-base-py"
  },
  "language_info": {
   "codemirror_mode": {
    "name": "ipython",
    "version": 3
   },
   "file_extension": ".py",
   "mimetype": "text/x-python",
   "name": "python",
   "nbconvert_exporter": "python",
   "pygments_lexer": "ipython3",
   "version": "3.12.7"
  }
 },
 "nbformat": 4,
 "nbformat_minor": 5
}
